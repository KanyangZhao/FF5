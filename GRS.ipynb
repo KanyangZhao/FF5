{
 "cells": [
  {
   "cell_type": "code",
   "execution_count": 2,
   "metadata": {},
   "outputs": [],
   "source": [
    "import numpy as np\n",
    "import pandas as pd\n",
    "import scipy.stats as st\n",
    "\"\"\"\n",
    "Function GRS_test(factor, resid, alpha) is to conduct GRS test according \n",
    "to Gibbons, Ross & Shanken(1989) to receive GRS-statistic and p-value.\n",
    "\n",
    "H0: alpha1=alpha2=...=alphaN\n",
    "\n",
    "Parameters:\n",
    "  T = number of months\n",
    "  N = number of portfolios\n",
    "  L = number of factors\n",
    "\n",
    "Inputs:\n",
    "  factor: matrix of FF factors with shape (T, L)\n",
    "  resid: matrix of residuals with shape (T, N)\n",
    "  alpha: matrix of intercepts with shape (N, 1)\n",
    "\n",
    "Outputs:\n",
    "  f_grs: GRS-statistic\n",
    "  p_grs: P-value\n",
    "\n",
    "\"\"\"\n",
    "\n",
    "def GRS_test(factor, resid, alpha):\n",
    "    N = resid.shape[1]        \n",
    "    T = resid.shape[0]       \n",
    "    L = factor.shape[1]      \n",
    "\n",
    "    if (T-N-L) < 0:\n",
    "        print('can not conduct GRS test because T-N-L<0')\n",
    "        return\n",
    "\n",
    "    factor = np.asmatrix(factor)                   # factor matrix (T, L)\n",
    "    resid = np.asmatrix(resid)                     # residual matrix (T, N)\n",
    "    alpha = np.asmatrix(alpha).reshape(N, 1)       # intercept matrix (N, 1)\n",
    "\n",
    "    mean_return_factor = (factor.mean(axis=0))\n",
    "\n",
    "    # covariance matrix of residuals\n",
    "    cov_resid = (resid.T * resid) / (T-L-1)\n",
    "    # covariance matrix of factors\n",
    "    cov_factor = ((factor - mean_return_factor).T * (factor - mean_return_factor)) / (T-1)\n",
    "\n",
    "    mean_return_factor = mean_return_factor.reshape(L, 1)\n",
    "\n",
    "    # GRS statistic\n",
    "    f_grs = float((T/N) * ((T-N-L)/(T-L-1)) * ((alpha.T * np.linalg.inv(cov_resid) * alpha) / (1 + mean_return_factor.T * np.linalg.inv(cov_factor) * mean_return_factor)))\n",
    "\n",
    "    # p-value\n",
    "    p_grs = 1 - st.f.cdf(f_grs, N, (T-N-L))\n",
    "\n",
    "    return f_grs, p_grs"
   ]
  },
  {
   "cell_type": "code",
   "execution_count": null,
   "metadata": {},
   "outputs": [],
   "source": []
  }
 ],
 "metadata": {
  "kernelspec": {
   "display_name": "OCET-main-SFzh1x07",
   "language": "python",
   "name": "python3"
  },
  "language_info": {
   "codemirror_mode": {
    "name": "ipython",
    "version": 3
   },
   "file_extension": ".py",
   "mimetype": "text/x-python",
   "name": "python",
   "nbconvert_exporter": "python",
   "pygments_lexer": "ipython3",
   "version": "3.10.11"
  },
  "orig_nbformat": 4
 },
 "nbformat": 4,
 "nbformat_minor": 2
}
