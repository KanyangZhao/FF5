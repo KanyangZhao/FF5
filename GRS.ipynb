{
 "cells": [
  {
   "cell_type": "code",
   "execution_count": 1,
   "metadata": {},
   "outputs": [],
   "source": [
    "import numpy as np\n",
    "import pandas as pd\n",
    "import scipy.stats as st\n",
    "import warnings\n",
    "warnings.filterwarnings('ignore')\n",
    "\"\"\"\n",
    "Function GRS_test(factor, resid, alpha) is to conduct GRS test according \n",
    "to Gibbons, Ross & Shanken(1989) to receive GRS-statistic and p-value.\n",
    "\n",
    "H0: alpha1=alpha2=...=alphaN\n",
    "\n",
    "Parameters:\n",
    "  T = number of months\n",
    "  N = number of portfolios\n",
    "  L = number of factors\n",
    "\n",
    "Inputs:\n",
    "  factor: matrix of FF factors with shape (T, L)\n",
    "  resid: matrix of residuals with shape (T, N)\n",
    "  alpha: matrix of intercepts with shape (N, 1)\n",
    "\n",
    "Outputs:\n",
    "  f_grs: GRS-statistic\n",
    "  p_grs: P-value\n",
    "\n",
    "\"\"\"\n",
    "\n",
    "def GRS_test(factor, resid, alpha):\n",
    "    N = resid.shape[1]        \n",
    "    T = resid.shape[0]       \n",
    "    L = factor.shape[1]      \n",
    "\n",
    "    if (T-N-L) < 0:\n",
    "        print('can not conduct GRS test because T-N-L<0')\n",
    "        return\n",
    "\n",
    "    factor = np.asmatrix(factor)                   # factor matrix (T, L)\n",
    "    resid = np.asmatrix(resid)                     # residual matrix (T, N)\n",
    "    alpha = np.asmatrix(alpha).reshape(N, 1)       # intercept matrix (N, 1)\n",
    "\n",
    "    mean_return_factor = (factor.mean(axis=0))\n",
    "\n",
    "    # covariance matrix of residuals\n",
    "    cov_resid = (resid.T * resid) / (T-L-1)\n",
    "    # covariance matrix of factors\n",
    "    cov_factor = ((factor - mean_return_factor).T * (factor - mean_return_factor)) / (T-1)\n",
    "\n",
    "    mean_return_factor = mean_return_factor.reshape(L, 1)\n",
    "\n",
    "    # GRS statistic\n",
    "    f_grs = float((T/N) * ((T-N-L)/(T-L-1)) * ((alpha.T * np.linalg.inv(cov_resid) * alpha) / (1 + mean_return_factor.T * np.linalg.inv(cov_factor) * mean_return_factor)))\n",
    "\n",
    "    # p-value\n",
    "    p_grs = 1 - st.f.cdf(f_grs, N, (T-N-L))\n",
    "\n",
    "    return f_grs, p_grs"
   ]
  },
  {
   "cell_type": "code",
   "execution_count": 2,
   "metadata": {},
   "outputs": [],
   "source": [
    "factor = pd.concat([pd.read_csv('factor_result/2016FF5.csv'),pd.read_csv('factor_result/2017FF5.csv')], axis= 0)\n",
    "factor.set_index('date', inplace= True)"
   ]
  },
  {
   "cell_type": "code",
   "execution_count": 3,
   "metadata": {},
   "outputs": [
    {
     "data": {
      "text/plain": [
       "(5.306214040619461, 0.040383604177044785)"
      ]
     },
     "execution_count": 3,
     "metadata": {},
     "output_type": "execute_result"
    }
   ],
   "source": [
    "BM_resid = pd.read_csv('regression_result/regression_BM_resid.csv')\n",
    "BM_alpha = pd.read_csv('regression_result/regression_BM.csv')\n",
    "BM_alpha = BM_alpha['Const']\n",
    "GRS_test(factor, BM_resid, BM_alpha)"
   ]
  },
  {
   "cell_type": "code",
   "execution_count": 9,
   "metadata": {},
   "outputs": [
    {
     "data": {
      "text/plain": [
       "0.004064312405166923"
      ]
     },
     "execution_count": 9,
     "metadata": {},
     "output_type": "execute_result"
    }
   ],
   "source": [
    "BM_a = np.abs(BM_alpha).mean()\n",
    "BM_a"
   ]
  },
  {
   "cell_type": "code",
   "execution_count": 4,
   "metadata": {},
   "outputs": [
    {
     "data": {
      "text/plain": [
       "(3.9366705310226133, 0.07274418058882959)"
      ]
     },
     "execution_count": 4,
     "metadata": {},
     "output_type": "execute_result"
    }
   ],
   "source": [
    "Inv_resid = pd.read_csv('regression_result/regression_Inv_resid.csv')\n",
    "Inv_alpha = pd.read_csv('regression_result/regression_Inv.csv')\n",
    "Inv_alpha = Inv_alpha['Const']\n",
    "GRS_test(factor, Inv_resid, Inv_alpha)"
   ]
  },
  {
   "cell_type": "code",
   "execution_count": 14,
   "metadata": {},
   "outputs": [
    {
     "data": {
      "text/plain": [
       "1.3272762004543406e-05"
      ]
     },
     "execution_count": 14,
     "metadata": {},
     "output_type": "execute_result"
    }
   ],
   "source": [
    "Inv_a = np.abs(Inv_alpha)**2\n",
    "Inv_a.mean()"
   ]
  },
  {
   "cell_type": "code",
   "execution_count": 5,
   "metadata": {},
   "outputs": [
    {
     "data": {
      "text/plain": [
       "(7.515798429076026, 0.019426173430787452)"
      ]
     },
     "execution_count": 5,
     "metadata": {},
     "output_type": "execute_result"
    }
   ],
   "source": [
    "OP_resid = pd.read_csv('regression_result/regression_OP_resid.csv')\n",
    "OP_alpha = pd.read_csv('regression_result/regression_OP.csv')\n",
    "OP_alpha = OP_alpha['Const']\n",
    "GRS_test(factor, OP_resid, OP_alpha)"
   ]
  },
  {
   "cell_type": "code",
   "execution_count": 11,
   "metadata": {},
   "outputs": [
    {
     "data": {
      "text/plain": [
       "0.004101142442207568"
      ]
     },
     "execution_count": 11,
     "metadata": {},
     "output_type": "execute_result"
    }
   ],
   "source": [
    "OP_a = np.abs(OP_alpha).mean()\n",
    "OP_a"
   ]
  }
 ],
 "metadata": {
  "kernelspec": {
   "display_name": "OCET-main-SFzh1x07",
   "language": "python",
   "name": "python3"
  },
  "language_info": {
   "codemirror_mode": {
    "name": "ipython",
    "version": 3
   },
   "file_extension": ".py",
   "mimetype": "text/x-python",
   "name": "python",
   "nbconvert_exporter": "python",
   "pygments_lexer": "ipython3",
   "version": "3.10.11"
  },
  "orig_nbformat": 4
 },
 "nbformat": 4,
 "nbformat_minor": 2
}
