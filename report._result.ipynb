{
 "cells": [
  {
   "cell_type": "code",
   "execution_count": 2,
   "metadata": {},
   "outputs": [],
   "source": [
    "import pandas as pd\n",
    "import numpy as np\n",
    "from numpy import exp, log, sqrt\n",
    "import dataframe_image as dfi\n",
    "import warnings\n",
    "import seaborn as sns\n",
    "import matplotlib as mpl\n",
    "import matplotlib.pyplot as plt\n",
    "warnings.filterwarnings('ignore')"
   ]
  },
  {
   "cell_type": "code",
   "execution_count": 3,
   "metadata": {},
   "outputs": [],
   "source": [
    "sns.set_theme()\n",
    "plt.rcParams['font.sans-serif']=['SimHei'] #显示中文标签\n",
    "plt.rcParams['axes.unicode_minus']=True   #这两行需要手动设置\n",
    "mpl.rcParams['font.sans-serif'] = ['KaiTi', 'SimHei', 'FangSong']  # 汉字字体,优先使用楷体，如果找不到楷体，则使用黑体\n",
    "mpl.rcParams['font.size'] = 12  # 字体大小\n",
    "mpl.rcParams['axes.unicode_minus'] = False  # 正常显示负号"
   ]
  },
  {
   "cell_type": "markdown",
   "metadata": {},
   "source": [
    "Part1"
   ]
  },
  {
   "cell_type": "code",
   "execution_count": 45,
   "metadata": {},
   "outputs": [],
   "source": [
    "df_BM = pd.concat([pd.read_csv('./group_result/2016_BM_Size.csv'), pd.read_csv('./group_result/2017_BM_Size.csv')])\n",
    "df2 = df_BM.groupby(['row_count', 'col_count'])['ExcessReturn'].mean()\n",
    "df_reset = df2.reset_index()\n",
    "df3 = df_reset.pivot(index='row_count', columns='col_count', values='ExcessReturn')\n",
    "df3.columns.name = df_BM['row_type'].iat[0]\n",
    "df3.index.name = df_BM['col_type'].iat[0]\n",
    "df3\n",
    "dfi.export(df3, \"BM_Size.png\", table_conversion=\"matplotlib\")"
   ]
  },
  {
   "cell_type": "code",
   "execution_count": 20,
   "metadata": {},
   "outputs": [
    {
     "data": {
      "text/plain": [
       "0.0320974580655192"
      ]
     },
     "execution_count": 20,
     "metadata": {},
     "output_type": "execute_result"
    }
   ],
   "source": [
    "AR_BM = np.abs(df_BM['ExcessReturn']).mean()\n",
    "AR_BM"
   ]
  },
  {
   "cell_type": "code",
   "execution_count": 46,
   "metadata": {},
   "outputs": [],
   "source": [
    "df_Inv = pd.concat([pd.read_csv('./group_result/2016_Inv_Size.csv'), pd.read_csv('./group_result/2017_Inv_Size.csv')])\n",
    "df2 = df_Inv.groupby(['row_count', 'col_count'])['ExcessReturn'].mean()\n",
    "df_reset = df2.reset_index()\n",
    "df3 = df_reset.pivot(index='row_count', columns='col_count', values='ExcessReturn')\n",
    "df3.columns.name = df_Inv['row_type'].iat[0]\n",
    "df3.index.name = df_Inv['col_type'].iat[0]\n",
    "df3\n",
    "dfi.export(df3, \"Inv_Size.png\", table_conversion=\"matplotlib\")"
   ]
  },
  {
   "cell_type": "code",
   "execution_count": 19,
   "metadata": {},
   "outputs": [
    {
     "data": {
      "text/plain": [
       "0.031793070918811873"
      ]
     },
     "execution_count": 19,
     "metadata": {},
     "output_type": "execute_result"
    }
   ],
   "source": [
    "AR_Inv = np.abs(df_Inv['ExcessReturn']).mean()\n",
    "AR_Inv"
   ]
  },
  {
   "cell_type": "code",
   "execution_count": 37,
   "metadata": {},
   "outputs": [],
   "source": [
    "df_OP = pd.concat([pd.read_csv('./group_result/2016_OP_Size.csv'), pd.read_csv('./group_result/2017_OP_Size.csv')])\n",
    "df2 = df_OP.groupby(['row_count', 'col_count'])['ExcessReturn'].mean()\n",
    "df_reset = df2.reset_index()\n",
    "df3 = df_reset.pivot(index='row_count', columns='col_count', values='ExcessReturn')\n",
    "df3.columns.name = df_OP['row_type'].iat[0]\n",
    "df3.index.name = df_OP['col_type'].iat[0]\n",
    "df3\n",
    "dfi.export(df3, \"OP_Size.png\", table_conversion=\"matplotlib\")"
   ]
  },
  {
   "cell_type": "code",
   "execution_count": 22,
   "metadata": {},
   "outputs": [
    {
     "data": {
      "text/plain": [
       "0.031960388710443904"
      ]
     },
     "execution_count": 22,
     "metadata": {},
     "output_type": "execute_result"
    }
   ],
   "source": [
    "AR_OP = np.abs(df_OP['ExcessReturn']).mean()\n",
    "AR_OP"
   ]
  },
  {
   "cell_type": "markdown",
   "metadata": {},
   "source": [
    "Part2"
   ]
  },
  {
   "cell_type": "code",
   "execution_count": 7,
   "metadata": {},
   "outputs": [],
   "source": [
    "df = pd.concat([pd.read_csv('./factor_result/2016FF5.csv'), pd.read_csv('./factor_result/2017FF5.csv')])\n",
    "df.set_index('date', inplace= True)\n",
    "dfi.export(df, \"Factor.png\", table_conversion=\"matplotlib\")"
   ]
  },
  {
   "cell_type": "markdown",
   "metadata": {},
   "source": [
    "Part3"
   ]
  },
  {
   "cell_type": "code",
   "execution_count": 8,
   "metadata": {},
   "outputs": [],
   "source": [
    "df.describe()\n",
    "df2 = df.describe().loc[['mean', 'std']]\n",
    "df2.loc[len(df2)] =  df2.iloc[0,:] / df2.iloc[1,:] * np.sqrt(19)\n",
    "df2.rename(index={2:'t-Statistic'}, inplace=True)\n",
    "df2\n",
    "dfi.export(df2, \"Factor_descibe.png\", table_conversion=\"matplotlib\")"
   ]
  },
  {
   "cell_type": "code",
   "execution_count": 9,
   "metadata": {},
   "outputs": [],
   "source": [
    "dfi.export(df.corr(), \"Factor_corr.png\", table_conversion=\"matplotlib\")"
   ]
  },
  {
   "cell_type": "markdown",
   "metadata": {},
   "source": [
    "Part4"
   ]
  },
  {
   "cell_type": "code",
   "execution_count": 25,
   "metadata": {},
   "outputs": [
    {
     "data": {
      "text/html": [
       "<div>\n",
       "<style scoped>\n",
       "    .dataframe tbody tr th:only-of-type {\n",
       "        vertical-align: middle;\n",
       "    }\n",
       "\n",
       "    .dataframe tbody tr th {\n",
       "        vertical-align: top;\n",
       "    }\n",
       "\n",
       "    .dataframe thead th {\n",
       "        text-align: right;\n",
       "    }\n",
       "</style>\n",
       "<table border=\"1\" class=\"dataframe\">\n",
       "  <thead>\n",
       "    <tr style=\"text-align: right;\">\n",
       "      <th></th>\n",
       "      <th>GRS</th>\n",
       "      <th>GRS_P</th>\n",
       "      <th>A_ai</th>\n",
       "      <th>A_ai/A_ri</th>\n",
       "    </tr>\n",
       "  </thead>\n",
       "  <tbody>\n",
       "    <tr>\n",
       "      <th>BM-Size</th>\n",
       "      <td>5.30</td>\n",
       "      <td>0.040</td>\n",
       "      <td>0.004060</td>\n",
       "      <td>0.126875</td>\n",
       "    </tr>\n",
       "    <tr>\n",
       "      <th>Inv-Size</th>\n",
       "      <td>3.94</td>\n",
       "      <td>0.073</td>\n",
       "      <td>0.003167</td>\n",
       "      <td>0.126875</td>\n",
       "    </tr>\n",
       "    <tr>\n",
       "      <th>OP-Size</th>\n",
       "      <td>7.52</td>\n",
       "      <td>0.019</td>\n",
       "      <td>0.004100</td>\n",
       "      <td>0.126875</td>\n",
       "    </tr>\n",
       "  </tbody>\n",
       "</table>\n",
       "</div>"
      ],
      "text/plain": [
       "           GRS  GRS_P      A_ai  A_ai/A_ri\n",
       "BM-Size   5.30  0.040  0.004060   0.126875\n",
       "Inv-Size  3.94  0.073  0.003167   0.126875\n",
       "OP-Size   7.52  0.019  0.004100   0.126875"
      ]
     },
     "execution_count": 25,
     "metadata": {},
     "output_type": "execute_result"
    }
   ],
   "source": [
    "dict_4 = {'GRS':[5.30, 3.94, 7.52],'GRS_P':[0.040, 0.073, 0.019], 'A_ai':[0.00406, 0.003167, 0.00410], 'A_ai/A_ri':[0.00406/0.0320, 0.00406/0.0320, 0.00406/0.0320]}\n",
    "df = pd.DataFrame(dict_4, index= ['BM-Size', 'Inv-Size', 'OP-Size'])\n",
    "dfi.export(df, \"Factor_explanation.png\", table_conversion=\"matplotlib\")\n",
    "df"
   ]
  },
  {
   "cell_type": "code",
   "execution_count": 29,
   "metadata": {},
   "outputs": [],
   "source": [
    "df_BM_reg = pd.read_csv('./regression_result/regression_BM.csv')\n",
    "dfi.export(df_BM_reg, \"df_BM_reg.png\", table_conversion=\"matplotlib\")"
   ]
  },
  {
   "cell_type": "code",
   "execution_count": 32,
   "metadata": {},
   "outputs": [],
   "source": [
    "df_BM_reg_P = pd.read_csv('./regression_result/regression_BM_pvalue.csv')\n",
    "dfi.export(df_BM_reg_P, \"df_BM_reg_P.png\", table_conversion=\"matplotlib\")"
   ]
  },
  {
   "cell_type": "code",
   "execution_count": 30,
   "metadata": {},
   "outputs": [],
   "source": [
    "df_Inv_reg = pd.read_csv('./regression_result/regression_Inv.csv')\n",
    "dfi.export(df_Inv_reg, \"df_Inv_reg.png\", table_conversion=\"matplotlib\")"
   ]
  },
  {
   "cell_type": "code",
   "execution_count": 33,
   "metadata": {},
   "outputs": [],
   "source": [
    "df_Inv_reg_P = pd.read_csv('./regression_result/regression_Inv_pvalue.csv')\n",
    "dfi.export(df_Inv_reg_P, \"df_Inv_reg_P.png\", table_conversion=\"matplotlib\")"
   ]
  },
  {
   "cell_type": "code",
   "execution_count": 31,
   "metadata": {},
   "outputs": [],
   "source": [
    "df_OP_reg = pd.read_csv('./regression_result/regression_OP.csv')\n",
    "dfi.export(df_OP_reg, \"df_OP_reg.png\", table_conversion=\"matplotlib\")"
   ]
  },
  {
   "cell_type": "code",
   "execution_count": 34,
   "metadata": {},
   "outputs": [],
   "source": [
    "df_OP_reg_P = pd.read_csv('./regression_result/regression_OP_pvalue.csv')\n",
    "dfi.export(df_OP_reg_P, \"df_OP_reg_P.png\", table_conversion=\"matplotlib\")"
   ]
  }
 ],
 "metadata": {
  "kernelspec": {
   "display_name": "OCET-main-SFzh1x07",
   "language": "python",
   "name": "python3"
  },
  "language_info": {
   "codemirror_mode": {
    "name": "ipython",
    "version": 3
   },
   "file_extension": ".py",
   "mimetype": "text/x-python",
   "name": "python",
   "nbconvert_exporter": "python",
   "pygments_lexer": "ipython3",
   "version": "3.10.11"
  },
  "orig_nbformat": 4
 },
 "nbformat": 4,
 "nbformat_minor": 2
}
