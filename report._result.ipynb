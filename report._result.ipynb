{
 "cells": [
  {
   "cell_type": "code",
   "execution_count": 3,
   "metadata": {},
   "outputs": [],
   "source": [
    "import pandas as pd\n",
    "import numpy as np\n",
    "from numpy import exp, log, sqrt\n",
    "import dataframe_image as dfi\n",
    "import warnings\n",
    "import seaborn as sns\n",
    "import matplotlib as mpl\n",
    "import matplotlib.pyplot as plt\n",
    "warnings.filterwarnings('ignore')"
   ]
  },
  {
   "cell_type": "code",
   "execution_count": 4,
   "metadata": {},
   "outputs": [],
   "source": [
    "sns.set_theme()\n",
    "plt.rcParams['font.sans-serif']=['SimHei'] #显示中文标签\n",
    "plt.rcParams['axes.unicode_minus']=True   #这两行需要手动设置\n",
    "mpl.rcParams['font.sans-serif'] = ['KaiTi', 'SimHei', 'FangSong']  # 汉字字体,优先使用楷体，如果找不到楷体，则使用黑体\n",
    "mpl.rcParams['font.size'] = 12  # 字体大小\n",
    "mpl.rcParams['axes.unicode_minus'] = False  # 正常显示负号"
   ]
  },
  {
   "cell_type": "markdown",
   "metadata": {},
   "source": [
    "Part1"
   ]
  },
  {
   "cell_type": "code",
   "execution_count": 44,
   "metadata": {},
   "outputs": [],
   "source": [
    "df = pd.concat([pd.read_csv('./group_result/2016_BM_Size.csv'), pd.read_csv('./group_result/2017_BM_Size.csv')])\n",
    "df2 = df.groupby(['row_count', 'col_count'])['ExcessReturn'].mean()\n",
    "df_reset = df2.reset_index()\n",
    "df3 = df_reset.pivot(index='row_count', columns='col_count', values='ExcessReturn')\n",
    "df3.columns.name = None\n",
    "df3.index.name = None\n",
    "df3\n",
    "dfi.export(df3, \"BM_Size.png\", table_conversion=\"matplotlib\")"
   ]
  },
  {
   "cell_type": "code",
   "execution_count": 45,
   "metadata": {},
   "outputs": [],
   "source": [
    "df = pd.concat([pd.read_csv('./group_result/2016_Inv_Size.csv'), pd.read_csv('./group_result/2017_Inv_Size.csv')])\n",
    "df2 = df.groupby(['row_count', 'col_count'])['ExcessReturn'].mean()\n",
    "df_reset = df2.reset_index()\n",
    "df3 = df_reset.pivot(index='row_count', columns='col_count', values='ExcessReturn')\n",
    "df3.columns.name = None\n",
    "df3.index.name = None\n",
    "df3\n",
    "dfi.export(df3, \"Inv_Size.png\", table_conversion=\"matplotlib\")"
   ]
  },
  {
   "cell_type": "code",
   "execution_count": 46,
   "metadata": {},
   "outputs": [],
   "source": [
    "df = pd.concat([pd.read_csv('./group_result/2016_OP_Size.csv'), pd.read_csv('./group_result/2017_OP_Size.csv')])\n",
    "df2 = df.groupby(['row_count', 'col_count'])['ExcessReturn'].mean()\n",
    "df_reset = df2.reset_index()\n",
    "df3 = df_reset.pivot(index='row_count', columns='col_count', values='ExcessReturn')\n",
    "df3.columns.name = None\n",
    "df3.index.name = None\n",
    "df3\n",
    "dfi.export(df3, \"OP_Size.png\", table_conversion=\"matplotlib\")"
   ]
  },
  {
   "cell_type": "markdown",
   "metadata": {},
   "source": [
    "Part2"
   ]
  },
  {
   "cell_type": "code",
   "execution_count": 49,
   "metadata": {},
   "outputs": [],
   "source": [
    "df = pd.concat([pd.read_csv('./factor_result/2016FF5.csv'), pd.read_csv('./factor_result/2017FF5.csv')])\n",
    "df.set_index('date', inplace= True)\n",
    "dfi.export(df, \"Factor.png\", table_conversion=\"matplotlib\")"
   ]
  },
  {
   "cell_type": "markdown",
   "metadata": {},
   "source": [
    "Part3"
   ]
  },
  {
   "cell_type": "code",
   "execution_count": 94,
   "metadata": {},
   "outputs": [],
   "source": [
    "df.describe()\n",
    "df2 = df.describe().loc[['mean', 'std']]\n",
    "df2.loc[len(df2)] =  df2.iloc[0,:] / df2.iloc[1,:] * np.sqrt(19)\n",
    "df2.rename(index={2:'t-Statistic'}, inplace=True)\n",
    "df2\n",
    "dfi.export(df2, \"Factor_descibe.png\", table_conversion=\"matplotlib\")"
   ]
  },
  {
   "cell_type": "code",
   "execution_count": 98,
   "metadata": {},
   "outputs": [],
   "source": [
    "dfi.export(df.corr(), \"Factor_corr.png\", table_conversion=\"matplotlib\")"
   ]
  },
  {
   "cell_type": "markdown",
   "metadata": {},
   "source": [
    "Part4"
   ]
  },
  {
   "cell_type": "code",
   "execution_count": null,
   "metadata": {},
   "outputs": [],
   "source": []
  }
 ],
 "metadata": {
  "kernelspec": {
   "display_name": "OCET-main-SFzh1x07",
   "language": "python",
   "name": "python3"
  },
  "language_info": {
   "codemirror_mode": {
    "name": "ipython",
    "version": 3
   },
   "file_extension": ".py",
   "mimetype": "text/x-python",
   "name": "python",
   "nbconvert_exporter": "python",
   "pygments_lexer": "ipython3",
   "version": "3.9.12"
  },
  "orig_nbformat": 4
 },
 "nbformat": 4,
 "nbformat_minor": 2
}
